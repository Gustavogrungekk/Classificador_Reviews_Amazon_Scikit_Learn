{
 "cells": [
  {
   "cell_type": "code",
   "execution_count": 962,
   "id": "f4aee66f",
   "metadata": {},
   "outputs": [],
   "source": [
    "import numpy as np\n",
    "import pandas as pd\n",
    "import json\n",
    "import random\n",
    "import string"
   ]
  },
  {
   "cell_type": "code",
   "execution_count": 963,
   "id": "6ab8235f",
   "metadata": {},
   "outputs": [],
   "source": [
    "class Sentiment:\n",
    "    POSITIVE = 'Positive'\n",
    "    NEUTRAL = 'Neutral'\n",
    "    NEGATIVE = 'Negative'\n",
    "\n",
    "class Review:\n",
    "    def __init__(self, text, score):\n",
    "        self.text = text\n",
    "        self.score = score\n",
    "        self.sentiment = self.score_checker()\n",
    "        \n",
    "        \n",
    "    def score_checker(self):\n",
    "        if self.score >= 4:\n",
    "            return Sentiment.POSITIVE\n",
    "        elif self.score == 3:\n",
    "            return Sentiment.NEUTRAL\n",
    "        else:\n",
    "            return Sentiment.NEGATIVE\n",
    "        \n",
    "class ReviewContainer:\n",
    "    def __init__(self, reviews):\n",
    "        self.reviews = reviews       \n",
    "     \n",
    "    def get_text(self):\n",
    "        return [x.text for x in self.reviews]\n",
    "    \n",
    "    def get_sentiment(self):\n",
    "        return [x.sentiment for x in self.reviews]\n",
    "        \n",
    "    # Bem nosso modelo so esta performando bem em prever Positivos...bora arrumar isso    \n",
    "    def distribuição_uniforme(self):\n",
    "        negative = list(filter(lambda x: x.sentiment == Sentiment.NEGATIVE, self.reviews))\n",
    "        positive = list(filter(lambda x: x.sentiment == Sentiment.POSITIVE, self.reviews))\n",
    "        neutral = list(filter(lambda x: x.sentiment == Sentiment.NEUTRAL, self.reviews))\n",
    "        positive_diminui = positive[: len(negative)]\n",
    "        neutral_diminui = neutral[: len(negative)]\n",
    "        self.reviews = negative + positive_diminui + neutral_diminui\n",
    "        random.shuffle(self.reviews)\n",
    "        \n",
    "        \n",
    "    # funcao para remover pontuacoes digitos das reviews\n",
    "    def cleaner(x):\n",
    "        x = x.lower()\n",
    "        x = [c for c in x if c not in string.punctuation]\n",
    "        x = ''.join([str(elemento) for elemento in x if not elemento.isdigit()])\n",
    "        return x"
   ]
  },
  {
   "cell_type": "code",
   "execution_count": 964,
   "id": "2f663fd3",
   "metadata": {},
   "outputs": [],
   "source": [
    "file = 'data/Books_small_10000.json'"
   ]
  },
  {
   "cell_type": "code",
   "execution_count": 965,
   "id": "38f1fd18",
   "metadata": {},
   "outputs": [],
   "source": [
    "reviews = []\n",
    "with open(file) as f:\n",
    "    for lines in f:\n",
    "        review = json.loads(lines)\n",
    "        reviews.append(Review(cleaner(review['reviewText']), review['overall']))"
   ]
  },
  {
   "cell_type": "code",
   "execution_count": 966,
   "id": "8d11f4eb",
   "metadata": {},
   "outputs": [
    {
     "data": {
      "text/plain": [
       "list"
      ]
     },
     "execution_count": 966,
     "metadata": {},
     "output_type": "execute_result"
    }
   ],
   "source": [
    "type(reviews)"
   ]
  },
  {
   "cell_type": "code",
   "execution_count": 967,
   "id": "a17294ab",
   "metadata": {},
   "outputs": [
    {
     "data": {
      "text/plain": [
       "5.0"
      ]
     },
     "execution_count": 967,
     "metadata": {},
     "output_type": "execute_result"
    }
   ],
   "source": [
    "reviews[5].score"
   ]
  },
  {
   "cell_type": "code",
   "execution_count": 968,
   "id": "60a13ced",
   "metadata": {},
   "outputs": [
    {
     "data": {
      "text/plain": [
       "'i hoped for mia to have some peace in this book but her story is so real and raw  broken world was so touching and emotional because you go from mias trauma to her trying to cope  i love the way the story displays how there is no just bouncing back from being sexually assaulted  mia showed us how those demons come for you every day and how sometimes they best you i was so in the moment with broken world and hurt with mia because she was surrounded by people but so alone and i understood her feelings  i found myself wishing i could give her some of my courage and strength or even just to be there for her  thank you lizzy for putting a great characters voice on a strong subject and making it so that other peoples story may be heard through mias'"
      ]
     },
     "execution_count": 968,
     "metadata": {},
     "output_type": "execute_result"
    }
   ],
   "source": [
    "reviews[5].text"
   ]
  },
  {
   "cell_type": "code",
   "execution_count": 969,
   "id": "39dad469",
   "metadata": {},
   "outputs": [
    {
     "data": {
      "text/plain": [
       "'Positive'"
      ]
     },
     "execution_count": 969,
     "metadata": {},
     "output_type": "execute_result"
    }
   ],
   "source": [
    "reviews[5].sentiment"
   ]
  },
  {
   "cell_type": "markdown",
   "id": "b3a4a671",
   "metadata": {},
   "source": [
    "#### Preparando os dados"
   ]
  },
  {
   "cell_type": "code",
   "execution_count": 970,
   "id": "82042430",
   "metadata": {},
   "outputs": [],
   "source": [
    "from sklearn.model_selection import train_test_split\n",
    "training, test = train_test_split(reviews, test_size=0.33, random_state=42)"
   ]
  },
  {
   "cell_type": "code",
   "execution_count": 971,
   "id": "99b7ffe9",
   "metadata": {},
   "outputs": [],
   "source": [
    "train_container = ReviewContainer(training)\n",
    "test_container = ReviewContainer(test)"
   ]
  },
  {
   "cell_type": "code",
   "execution_count": 972,
   "id": "9045b934",
   "metadata": {},
   "outputs": [
    {
     "data": {
      "text/plain": [
       "6700"
      ]
     },
     "execution_count": 972,
     "metadata": {},
     "output_type": "execute_result"
    }
   ],
   "source": [
    "# Para treinarmos\n",
    "len(training)"
   ]
  },
  {
   "cell_type": "code",
   "execution_count": 973,
   "id": "229055da",
   "metadata": {},
   "outputs": [
    {
     "data": {
      "text/plain": [
       "3300"
      ]
     },
     "execution_count": 973,
     "metadata": {},
     "output_type": "execute_result"
    }
   ],
   "source": [
    "# Para testarmos\n",
    "len(test)"
   ]
  },
  {
   "cell_type": "code",
   "execution_count": 974,
   "id": "70971a08",
   "metadata": {},
   "outputs": [
    {
     "name": "stdout",
     "output_type": "stream",
     "text": [
      "436\n",
      "436\n",
      "436\n"
     ]
    }
   ],
   "source": [
    "train_container.distribuição_uniforme()\n",
    "train_x = train_container.get_text()\n",
    "train_y = train_container.get_sentiment()\n",
    "\n",
    "test_container.distribuição_uniforme()\n",
    "test_x = test_container.get_text()\n",
    "test_y = test_container.get_sentiment()\n",
    "\n",
    "print(train_y.count(Sentiment.POSITIVE))\n",
    "print(train_y.count(Sentiment.NEGATIVE))\n",
    "print(train_y.count(Sentiment.NEUTRAL))"
   ]
  },
  {
   "cell_type": "code",
   "execution_count": 975,
   "id": "f03780cf",
   "metadata": {},
   "outputs": [
    {
     "data": {
      "text/plain": [
       "('i dont like to give bad reviews  and usually dont  but the music in this thing is  not bluegrass and  not carter style and  not classics of bluegrass guitarthere is no cd although another reviewer mentions how wonderful the examples are  and there is no author  the arrangements are so bad imho that im willing to bet they were entered into notationtab software by a guitar player whose ear is trained enough takes very little eartraining for this that heshe knows where the melody notes are on guitar and he keyed that quickly in put chord strums on the beats where no melody note lies and thats the arrangement  in other words this stuff im betting was never performed  any firstyear music student could so easily write this with no guitar anywhere aroundthis stuff is not what a bluegrass picker would ever stand up and play  in fact theyre so unlike real guitar music and so uninteresting i cant imagine even a rank beginner having real fun with them theres so much other stuff thats good and has audio examples for more effective learningmel bays guitar method for example teaches early students an arrangement of red haired boy that is the real thing  a bluegrass player would actually play that way theres no such thing in this book  an oldie but goodie is happy traums book bluegrass guitar  its only a bit more money but it teaches you the real thing  no matter your level  he has a dvd that goes great with the book  amazon sells them togetherbtw im saying this isnt carter style because mother maybelles style was to play the lead notes with a thumb pick while filling in the spaces by a scratch its called  the carter scratch  with her forefinger  a strum of the top two or three treble strings these arrangements are to be played with a plectrum  a flat regular guitar pick  also the carters didnt play bluegrass  most important of all this stuff doesnt sound like maybelles playing  and these tunes are not bluegrass guitar classics except for wildwood flower the final thing the book presents  this arrangement can sound passable but heck learn it faster on youtubesorry for such a negative review  i simply think people should know more before buying this thing',\n",
       " 'Negative')"
      ]
     },
     "execution_count": 975,
     "metadata": {},
     "output_type": "execute_result"
    }
   ],
   "source": [
    "train_x[0], train_y[0]"
   ]
  },
  {
   "cell_type": "code",
   "execution_count": 976,
   "id": "60fce7c0",
   "metadata": {},
   "outputs": [
    {
     "data": {
      "text/plain": [
       "('a very good beginning that never really went anywhere  it seemed as if she got tired of writing this but its a stephanie plum book so it was worth it',\n",
       " 'Neutral')"
      ]
     },
     "execution_count": 976,
     "metadata": {},
     "output_type": "execute_result"
    }
   ],
   "source": [
    "test_x[0], test_y[0]"
   ]
  },
  {
   "cell_type": "markdown",
   "id": "88faec32",
   "metadata": {},
   "source": [
    "#### Bag of Words e Vetorizacao"
   ]
  },
  {
   "cell_type": "code",
   "execution_count": 977,
   "id": "8794e323",
   "metadata": {
    "scrolled": true
   },
   "outputs": [],
   "source": [
    "from sklearn.feature_extraction.text import CountVectorizer, TfidfVectorizer\n",
    "\n",
    "vectorizer = TfidfVectorizer()\n",
    "\n",
    "train_x_vectors = vectorizer.fit_transform(train_x)\n",
    "\n",
    "test_x_vectors = vectorizer.transform(test_x)"
   ]
  },
  {
   "cell_type": "code",
   "execution_count": 978,
   "id": "a047330a",
   "metadata": {},
   "outputs": [
    {
     "name": "stdout",
     "output_type": "stream",
     "text": [
      "i dont like to give bad reviews  and usually dont  but the music in this thing is  not bluegrass and  not carter style and  not classics of bluegrass guitarthere is no cd although another reviewer mentions how wonderful the examples are  and there is no author  the arrangements are so bad imho that im willing to bet they were entered into notationtab software by a guitar player whose ear is trained enough takes very little eartraining for this that heshe knows where the melody notes are on guitar and he keyed that quickly in put chord strums on the beats where no melody note lies and thats the arrangement  in other words this stuff im betting was never performed  any firstyear music student could so easily write this with no guitar anywhere aroundthis stuff is not what a bluegrass picker would ever stand up and play  in fact theyre so unlike real guitar music and so uninteresting i cant imagine even a rank beginner having real fun with them theres so much other stuff thats good and has audio examples for more effective learningmel bays guitar method for example teaches early students an arrangement of red haired boy that is the real thing  a bluegrass player would actually play that way theres no such thing in this book  an oldie but goodie is happy traums book bluegrass guitar  its only a bit more money but it teaches you the real thing  no matter your level  he has a dvd that goes great with the book  amazon sells them togetherbtw im saying this isnt carter style because mother maybelles style was to play the lead notes with a thumb pick while filling in the spaces by a scratch its called  the carter scratch  with her forefinger  a strum of the top two or three treble strings these arrangements are to be played with a plectrum  a flat regular guitar pick  also the carters didnt play bluegrass  most important of all this stuff doesnt sound like maybelles playing  and these tunes are not bluegrass guitar classics except for wildwood flower the final thing the book presents  this arrangement can sound passable but heck learn it faster on youtubesorry for such a negative review  i simply think people should know more before buying this thing\n",
      "[[0. 0. 0. ... 0. 0. 0.]]\n"
     ]
    }
   ],
   "source": [
    "print(train_x[0])\n",
    "print(train_x_vectors[0].toarray())"
   ]
  },
  {
   "cell_type": "markdown",
   "id": "399f303d",
   "metadata": {},
   "source": [
    "#### Classification"
   ]
  },
  {
   "cell_type": "markdown",
   "id": "55e4e438",
   "metadata": {},
   "source": [
    "#### Linear SVM"
   ]
  },
  {
   "cell_type": "code",
   "execution_count": 979,
   "id": "344e45bd",
   "metadata": {},
   "outputs": [],
   "source": [
    "from sklearn.svm import SVC\n",
    "svm = SVC(kernel='linear')\n",
    "\n",
    "svm_clf = svm.fit(train_x_vectors, train_y)\n",
    "\n",
    "predicao_svm = svm_clf.predict(test_x_vectors)"
   ]
  },
  {
   "cell_type": "code",
   "execution_count": 980,
   "id": "4afb245f",
   "metadata": {},
   "outputs": [
    {
     "name": "stdout",
     "output_type": "stream",
     "text": [
      "a very good beginning that never really went anywhere  it seemed as if she got tired of writing this but its a stephanie plum book so it was worth it\n",
      "[[0. 0. 0. ... 0. 0. 0.]]\n"
     ]
    }
   ],
   "source": [
    "# Apenas observando os resultados obtidos\n",
    "print(test_x[0])\n",
    "print(train_x_vectors[0].toarray())"
   ]
  },
  {
   "cell_type": "code",
   "execution_count": 981,
   "id": "abf225d4",
   "metadata": {},
   "outputs": [
    {
     "data": {
      "text/plain": [
       "('Negative', 'Positive')"
      ]
     },
     "execution_count": 981,
     "metadata": {},
     "output_type": "execute_result"
    }
   ],
   "source": [
    "train_y[5], predicao_svm[5]"
   ]
  },
  {
   "cell_type": "markdown",
   "id": "b964c896",
   "metadata": {},
   "source": [
    "#### Decision Tree"
   ]
  },
  {
   "cell_type": "code",
   "execution_count": 982,
   "id": "1aeed3f4",
   "metadata": {
    "scrolled": true
   },
   "outputs": [],
   "source": [
    "from sklearn.tree import DecisionTreeClassifier\n",
    "tree_clf = DecisionTreeClassifier(criterion='entropy')\n",
    "\n",
    "tree_clf.fit(train_x_vectors, train_y)\n",
    "\n",
    "predicao_tree = tree_clf.predict(test_x_vectors)"
   ]
  },
  {
   "cell_type": "markdown",
   "id": "1fe3f160",
   "metadata": {},
   "source": [
    "#### Naive Bayes"
   ]
  },
  {
   "cell_type": "code",
   "execution_count": 983,
   "id": "20677e4e",
   "metadata": {},
   "outputs": [],
   "source": [
    "from sklearn.naive_bayes import GaussianNB\n",
    "bay_gnb = GaussianNB()\n",
    "\n",
    "bay_gnb.fit(train_x_vectors.toarray(), train_y)\n",
    "\n",
    "predicao_gnb = bay_gnb.predict(test_x_vectors.toarray())"
   ]
  },
  {
   "cell_type": "markdown",
   "id": "f51f5592",
   "metadata": {},
   "source": [
    "#### Logistic Regression"
   ]
  },
  {
   "cell_type": "code",
   "execution_count": 984,
   "id": "31325744",
   "metadata": {},
   "outputs": [],
   "source": [
    "from sklearn.linear_model import LogisticRegression\n",
    "log_clf = LogisticRegression(max_iter=500)\n",
    "\n",
    "log_clf.fit(train_x_vectors, train_y)\n",
    "\n",
    "predicao_log = log_clf.predict(test_x_vectors)"
   ]
  },
  {
   "cell_type": "markdown",
   "id": "c5e06d89",
   "metadata": {},
   "source": [
    "#### Evaluation"
   ]
  },
  {
   "cell_type": "code",
   "execution_count": 985,
   "id": "c32745bc",
   "metadata": {},
   "outputs": [],
   "source": [
    "from sklearn.metrics import classification_report"
   ]
  },
  {
   "cell_type": "code",
   "execution_count": 986,
   "id": "1b8b3960",
   "metadata": {},
   "outputs": [
    {
     "name": "stdout",
     "output_type": "stream",
     "text": [
      "61.0\n",
      "41.0\n",
      "44.0\n",
      "62.0\n"
     ]
    }
   ],
   "source": [
    "# MEAN SCORE/Media de Acertos\n",
    "print(svm_clf.score(test_x_vectors, test_y).round(2) *100)\n",
    "print(tree_clf.score(test_x_vectors, test_y).round(2)*100)\n",
    "print(bay_gnb.score(test_x_vectors.toarray(), test_y).round(2)*100)\n",
    "print(log_clf.score(test_x_vectors, test_y).round(2)*100)"
   ]
  },
  {
   "cell_type": "code",
   "execution_count": 987,
   "id": "24f17b43",
   "metadata": {},
   "outputs": [
    {
     "name": "stdout",
     "output_type": "stream",
     "text": [
      "Linear Support Vector Machine: 0.61\n",
      "*******************************************************\n",
      "              precision    recall  f1-score   support\n",
      "\n",
      "    Negative       0.59      0.60      0.59       205\n",
      "     Neutral       0.54      0.53      0.53       215\n",
      "    Positive       0.69      0.71      0.70       204\n",
      "\n",
      "    accuracy                           0.61       624\n",
      "   macro avg       0.61      0.61      0.61       624\n",
      "weighted avg       0.61      0.61      0.61       624\n",
      "\n"
     ]
    }
   ],
   "source": [
    "# f1-score\n",
    "print(f'Linear Support Vector Machine: {svm_clf.score(test_x_vectors, test_y).round(2)}')\n",
    "print('*'*55)\n",
    "print(classification_report(predicao_svm, test_y))"
   ]
  },
  {
   "cell_type": "code",
   "execution_count": 988,
   "id": "5158d859",
   "metadata": {},
   "outputs": [
    {
     "name": "stdout",
     "output_type": "stream",
     "text": [
      "Decision Tree: 0.41\n",
      "*******************************************************\n",
      "              precision    recall  f1-score   support\n",
      "\n",
      "    Negative       0.38      0.39      0.39       204\n",
      "     Neutral       0.38      0.37      0.38       214\n",
      "    Positive       0.46      0.46      0.46       206\n",
      "\n",
      "    accuracy                           0.41       624\n",
      "   macro avg       0.41      0.41      0.41       624\n",
      "weighted avg       0.41      0.41      0.41       624\n",
      "\n"
     ]
    }
   ],
   "source": [
    "print(f'Decision Tree: {tree_clf.score(test_x_vectors, test_y).round(2)}')\n",
    "print('*'*55)\n",
    "print(classification_report(predicao_tree, test_y))"
   ]
  },
  {
   "cell_type": "code",
   "execution_count": 989,
   "id": "4a1a249e",
   "metadata": {},
   "outputs": [
    {
     "name": "stdout",
     "output_type": "stream",
     "text": [
      "Naive Bayes: 0.44\n",
      "*******************************************************\n",
      "              precision    recall  f1-score   support\n",
      "\n",
      "    Negative       0.46      0.46      0.46       207\n",
      "     Neutral       0.41      0.37      0.39       231\n",
      "    Positive       0.44      0.49      0.47       186\n",
      "\n",
      "    accuracy                           0.44       624\n",
      "   macro avg       0.44      0.44      0.44       624\n",
      "weighted avg       0.44      0.44      0.44       624\n",
      "\n"
     ]
    }
   ],
   "source": [
    "print(f'Naive Bayes: {bay_gnb.score(test_x_vectors.toarray(), test_y).round(2)}')\n",
    "print('*'*55)\n",
    "print(classification_report(predicao_gnb, test_y))"
   ]
  },
  {
   "cell_type": "code",
   "execution_count": 990,
   "id": "4a2ee9fb",
   "metadata": {
    "scrolled": true
   },
   "outputs": [
    {
     "name": "stdout",
     "output_type": "stream",
     "text": [
      "Logistic Regression: 0.62\n",
      "*******************************************************\n",
      "              precision    recall  f1-score   support\n",
      "\n",
      "    Negative       0.60      0.62      0.61       200\n",
      "     Neutral       0.53      0.53      0.53       208\n",
      "    Positive       0.73      0.70      0.71       216\n",
      "\n",
      "    accuracy                           0.62       624\n",
      "   macro avg       0.62      0.62      0.62       624\n",
      "weighted avg       0.62      0.62      0.62       624\n",
      "\n"
     ]
    }
   ],
   "source": [
    "print(f'Logistic Regression: {log_clf.score(test_x_vectors, test_y).round(2)}')\n",
    "print('*'*55)\n",
    "print(classification_report(predicao_log, test_y))"
   ]
  },
  {
   "cell_type": "code",
   "execution_count": 991,
   "id": "3a19ad07",
   "metadata": {},
   "outputs": [],
   "source": [
    "# Regressao logistica foi o que melhor performou..."
   ]
  },
  {
   "cell_type": "code",
   "execution_count": 992,
   "id": "41c8c771",
   "metadata": {},
   "outputs": [
    {
     "data": {
      "text/plain": [
       "array(['Positive', 'Negative', 'Negative'], dtype='<U8')"
      ]
     },
     "execution_count": 992,
     "metadata": {},
     "output_type": "execute_result"
    }
   ],
   "source": [
    "# testando\n",
    "new_text = ['Wow amazing story I enjoyed this', 'Waste of time horrible', 'Too bad I would never recomend']\n",
    "new_test = vectorizer.transform(new_text)\n",
    "\n",
    "log_clf.predict(new_test)"
   ]
  },
  {
   "cell_type": "markdown",
   "id": "f13601c5",
   "metadata": {},
   "source": [
    "#### Tunning our model (Com Grid Search)"
   ]
  },
  {
   "cell_type": "code",
   "execution_count": 993,
   "id": "a61b0bd2",
   "metadata": {},
   "outputs": [],
   "source": [
    "# Precisamos melhorar nosso modelo, e pra isso utilizaremos Grid Search\n",
    "# Grid Search e praticamente um afinador de parametros, que ira encontrar\n",
    "# o melhor parametro para nossos algoritmos de Machine Learning"
   ]
  },
  {
   "cell_type": "code",
   "execution_count": 994,
   "id": "c5b80130",
   "metadata": {},
   "outputs": [],
   "source": [
    "# Aplicaremos o Tunning apenas nos algoritmos que melhor performaram porque levara um tempo para isso"
   ]
  },
  {
   "cell_type": "code",
   "execution_count": 995,
   "id": "39d01031",
   "metadata": {},
   "outputs": [],
   "source": [
    "from sklearn.model_selection import GridSearchCV"
   ]
  },
  {
   "cell_type": "code",
   "execution_count": 996,
   "id": "f976502f",
   "metadata": {},
   "outputs": [
    {
     "name": "stdout",
     "output_type": "stream",
     "text": [
      "{'C': 1.5, 'solver': 'saga', 'tol': 1e-05}\n",
      "0.6146793015705887\n"
     ]
    }
   ],
   "source": [
    "# SVM\n",
    "parameters = {'tol':[0.001, 0.0001, 0.00001],'C': [1.0, 1.5, 2.0],'kernel': ['rbf', 'linear', 'poly', 'sigmoid']}\n",
    "\n",
    "grid_search_svm = GridSearchCV(estimator=SVC(), param_grid=parameters)\n",
    "grid_search_svm.fit(train_x_vectors, train_y)\n",
    "best_parameters = grid_search.best_params_\n",
    "best_result = grid_search.best_score_\n",
    "\n",
    "print(best_parameters)\n",
    "print(best_result)"
   ]
  },
  {
   "cell_type": "code",
   "execution_count": 997,
   "id": "cb3f0c38",
   "metadata": {},
   "outputs": [
    {
     "name": "stdout",
     "output_type": "stream",
     "text": [
      "61.0\n"
     ]
    }
   ],
   "source": [
    "print(grid_search_svm.score(test_x_vectors, test_y).round(2) *100)"
   ]
  },
  {
   "cell_type": "code",
   "execution_count": 998,
   "id": "ccba4b1d",
   "metadata": {},
   "outputs": [
    {
     "name": "stdout",
     "output_type": "stream",
     "text": [
      "{'C': 1.5, 'solver': 'saga', 'tol': 1e-05}\n",
      "0.6146793015705887\n"
     ]
    }
   ],
   "source": [
    "# Logistic Regression\n",
    "parameters = {'tol': [0.0001, 0.00001, 0.000001],'C': [1.0, 1.5, 2.0],'solver': ['lbfgs', 'sag', 'saga']}\n",
    "\n",
    "grid_search_log = GridSearchCV(estimator=LogisticRegression(max_iter=1000), param_grid=parameters)\n",
    "grid_search_log.fit(train_x_vectors, train_y)\n",
    "best_parameters = grid_search.best_params_\n",
    "best_result = grid_search.best_score_\n",
    "\n",
    "print(best_parameters)\n",
    "print(best_result)"
   ]
  },
  {
   "cell_type": "code",
   "execution_count": 999,
   "id": "e4fddb38",
   "metadata": {},
   "outputs": [
    {
     "name": "stdout",
     "output_type": "stream",
     "text": [
      "62.0\n"
     ]
    }
   ],
   "source": [
    "print(grid_search_log.score(test_x_vectors, test_y).round(2) *100)"
   ]
  },
  {
   "cell_type": "markdown",
   "id": "9f221e3b",
   "metadata": {},
   "source": [
    "#### Salvando nosso modelo"
   ]
  },
  {
   "cell_type": "code",
   "execution_count": 1000,
   "id": "ab073e9a",
   "metadata": {},
   "outputs": [],
   "source": [
    "import pickle"
   ]
  },
  {
   "cell_type": "code",
   "execution_count": 1003,
   "id": "f56513ba",
   "metadata": {},
   "outputs": [],
   "source": [
    "with open('modelos/sentiment_classifier.pkl', 'wb') as f:\n",
    "    pickle.dump(log_clf, f)"
   ]
  },
  {
   "cell_type": "markdown",
   "id": "45f96506",
   "metadata": {},
   "source": [
    "#### Carregando o modelo"
   ]
  },
  {
   "cell_type": "code",
   "execution_count": 1005,
   "id": "ddef81fe",
   "metadata": {},
   "outputs": [],
   "source": [
    "with open('modelos/sentiment_classifier.pkl', 'rb') as f:\n",
    "    loaded_log_clf = pickle.load(f)"
   ]
  },
  {
   "cell_type": "code",
   "execution_count": 1008,
   "id": "64e0837b",
   "metadata": {},
   "outputs": [
    {
     "name": "stdout",
     "output_type": "stream",
     "text": [
      "a very good beginning that never really went anywhere  it seemed as if she got tired of writing this but its a stephanie plum book so it was worth it\n"
     ]
    },
    {
     "data": {
      "text/plain": [
       "array(['Negative'], dtype='<U8')"
      ]
     },
     "execution_count": 1008,
     "metadata": {},
     "output_type": "execute_result"
    }
   ],
   "source": [
    "print(test_x[0])\n",
    "loaded_log_clf.predict(test_x_vectors[0])"
   ]
  },
  {
   "cell_type": "code",
   "execution_count": 1014,
   "id": "967074bd",
   "metadata": {},
   "outputs": [
    {
     "data": {
      "text/plain": [
       "array(['Neutral', 'Positive', 'Negative'], dtype='<U8')"
      ]
     },
     "execution_count": 1014,
     "metadata": {},
     "output_type": "execute_result"
    }
   ],
   "source": [
    "new_text = ['I thought it would be better', 'i really enjoyed this journey', 'Too bad I would not recomend it']\n",
    "new_test = vectorizer.transform(new_text)\n",
    "\n",
    "loaded_log_clf.predict(new_test)"
   ]
  }
 ],
 "metadata": {
  "kernelspec": {
   "display_name": "Python 3",
   "language": "python",
   "name": "python3"
  },
  "language_info": {
   "codemirror_mode": {
    "name": "ipython",
    "version": 3
   },
   "file_extension": ".py",
   "mimetype": "text/x-python",
   "name": "python",
   "nbconvert_exporter": "python",
   "pygments_lexer": "ipython3",
   "version": "3.9.5"
  }
 },
 "nbformat": 4,
 "nbformat_minor": 5
}
